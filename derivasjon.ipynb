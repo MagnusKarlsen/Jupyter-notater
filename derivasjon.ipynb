{
 "cells": [
  {
   "cell_type": "markdown",
   "metadata": {},
   "source": [
    "# derivasjon og funksjoner "
   ]
  },
  {
   "cell_type": "code",
   "execution_count": null,
   "metadata": {},
   "outputs": [],
   "source": [
    "from pylab import*\n",
    "x = linspace(-3,3,100)\n",
    "\n",
    "def f(x):\n",
    "    return x**2\n",
    "\n",
    "y = f(x)\n",
    "\n",
    "plot(x,y)\n",
    "show()\n"
   ]
  },
  {
   "cell_type": "markdown",
   "metadata": {},
   "source": []
  },
  {
   "cell_type": "markdown",
   "metadata": {},
   "source": [
    "\n",
    "# Numerisk derivasjon\n"
   ]
  },
  {
   "cell_type": "code",
   "execution_count": 3,
   "metadata": {},
   "outputs": [
    {
     "name": "stdout",
     "output_type": "stream",
     "text": [
      "x er:45\n",
      "90.00000068226655\n"
     ]
    }
   ],
   "source": [
    "from pylab import*\n",
    "\n",
    "dx = 0.000001\n",
    "x = float(input('x er:'))\n",
    "\n",
    "def f(x):\n",
    "    return x**2\n",
    "\n",
    "def fder(f, x, dx):\n",
    "    df = (f(x + dx) - f(x))/dx\n",
    "    return df\n",
    "\n",
    "print(fder(f, x, dx))"
   ]
  },
  {
   "cell_type": "markdown",
   "metadata": {},
   "source": [
    "# derivasjon av diskrete data \n"
   ]
  },
  {
   "cell_type": "code",
   "execution_count": 11,
   "metadata": {
    "scrolled": true
   },
   "outputs": [
    {
     "data": {
      "image/png": "[encoded data removed]",
      "text/plain": [
       "<Figure size 432x288 with 1 Axes>"
      ]
     },
     "metadata": {
      "needs_background": "light"
     },
     "output_type": "display_data"
    }
   ],
   "source": [
    "from pylab import* \n",
    "\n",
    "t = [5, 10, 15, 30, 50, 60]\n",
    "s = [115, 190, 390, 600, 1000, 1200]\n",
    "v =[]\n",
    "v.append(0)\n",
    "\n",
    "for i in range (len(s)-1):\n",
    "    sder = (s[i+1] - s[i])/(t[i+1] - t[i])\n",
    "    v.append(sder)\n",
    "\n",
    "plot(t,v)\n",
    "show()"
   ]
  },
  {
   "cell_type": "markdown",
   "metadata": {},
   "source": [
    "## numerisk matematikk\n"
   ]
  },
  {
   "cell_type": "markdown",
   "metadata": {},
   "source": [
    "A. en sekant er en tangent mellom to punkter i en funskjon med hvor stigningstallet til tangenten er det samme som det gjennomsnittlige stigningstallet til de to punktene.\n",
    "\n",
    "B. en tangent er en rett linje som går igjennom et punkt med samme stigningstall som det punktet. det er egentlig to punkter som en sekant, men avstanden mellom de to puktene er tilnærmet null.\n",
    "\n",
    "$$f'(x)= \\lim_{\\Delta a\\to 0} \\frac{f(a+\\Delta a)-f(a)}{\\Delta a}$$"
   ]
  },
  {
   "cell_type": "markdown",
   "metadata": {},
   "source": [
    "C. derivasjon er en matematisk tilnermning for endringen av en fusksjon.\n",
    "\n",
    "D. Newtons kvotient basserer seg på at du setter $\\Delta x$ til å være et veldig lavt tall. mens i derivasjon "
   ]
  },
  {
   "cell_type": "code",
   "execution_count": 4,
   "metadata": {},
   "outputs": [
    {
     "name": "stdout",
     "output_type": "stream",
     "text": [
      "x er: 34\n",
      "den deriverte av f(x) er 208.9991539833136 når x = 34.0\n"
     ]
    }
   ],
   "source": [
    "dx = 0.000000001\n",
    "x = float(input(\"x er: \"))\n",
    "\n",
    "def f(x):\n",
    "    return (3*x**2) + 5*x + 3\n",
    "\n",
    "def D(x):\n",
    "    return (f(x + dx) -f(x))/dx\n",
    "\n",
    "print('den deriverte av f(x) er',D(x), 'når x =', x)"
   ]
  },
  {
   "cell_type": "markdown",
   "metadata": {},
   "source": [
    "\n",
    "    \n"
   ]
  },
  {
   "cell_type": "code",
   "execution_count": null,
   "metadata": {},
   "outputs": [],
   "source": []
  }
 ],
 "metadata": {
  "kernelspec": {
   "display_name": "Python 3",
   "language": "python",
   "name": "python3"
  },
  "language_info": {
   "codemirror_mode": {
    "name": "ipython",
    "version": 3
   },
   "file_extension": ".py",
   "mimetype": "text/x-python",
   "name": "python",
   "nbconvert_exporter": "python",
   "pygments_lexer": "ipython3",
   "version": "3.7.3"
  }
 },
 "nbformat": 4,
 "nbformat_minor": 2
}
