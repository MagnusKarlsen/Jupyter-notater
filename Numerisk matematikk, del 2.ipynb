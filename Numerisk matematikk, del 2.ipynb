{
 "cells": [
  {
   "cell_type": "markdown",
   "metadata": {},
   "source": [
    "# Skyte spurv med kanoner"
   ]
  },
  {
   "cell_type": "markdown",
   "metadata": {},
   "source": [
    "A)\n",
    "Til denne øvelsen skal vi annvende veiformel 2 for å beskrive bevegelsen til en kanonkule skutt ut med en sprettert. her ser vi at startfarten er representert og multipliert siden hastighet multiplisert med tid blir strekning. samtidig ser vi at $sin\\theta$ er tatt med. på grunn av at startfarten fører til bevegelse i både x- og y- aksen vi må derfor annvende trigonometri for å forklare innvirkning på ballens y-akse (høyden). samtidig har vi også med en endrende hastighet som virker neddover hvilket er tyngde akselerasjonen multiplisert med tiden opphøyd i annen. dividert med to. grunnen til at dette leddet har negativ notasjon er at akselerasjonen virker neddover.\n",
    "    \n",
    "    \n",
    "$ y(t) = v_0 * sin\\theta*t -\\frac{1}{2}gt^2 $\n",
    "    "
   ]
  },
  {
   "cell_type": "markdown",
   "metadata": {},
   "source": [
    "B) Her multipliserer vi startfart med tiden for ballens bane. slik finner vi strekning men siden startfarten ikke beveger seg loddrett må vi multiplisere med cosinus og bruke trigonometri for å finne den faktiske lengden."
   ]
  },
  {
   "cell_type": "markdown",
   "metadata": {},
   "source": [
    "C,D)  Bruker numerisk derivasjon og newtons metode for å finne tid og deretter styrekning."
   ]
  },
  {
   "cell_type": "code",
   "execution_count": 28,
   "metadata": {},
   "outputs": [
    {
     "name": "stdout",
     "output_type": "stream",
     "text": [
      "sett inn estimert tid i sekunder: 1\n",
      "19.413090901402775 meter\n",
      "1.1340073188071462 sekunder\n"
     ]
    }
   ],
   "source": [
    "from pylab import*\n",
    "n = 100 \n",
    "x = float(input(\"sett inn estimert tid i sekunder: \"))\n",
    "dx = 1E-8\n",
    "def f(x):\n",
    "    return 18* x * sin(pi/10) - 0.5 * 9.81 * x**2\n",
    "def D(x):\n",
    "    return (f(x + dx) -f(x))/dx   \n",
    "for i in range(n):\n",
    "    x = x - (f(x))/D(x)\n",
    "    \n",
    "a = 18*cos(pi/10) * x    \n",
    "\n",
    "print(x, \"sekunder\")\n",
    "print(a,\"meter\")"
   ]
  },
  {
   "cell_type": "code",
   "execution_count": 31,
   "metadata": {},
   "outputs": [
    {
     "name": "stdout",
     "output_type": "stream",
     "text": [
      "1.1340073188071464 sekunder\n"
     ]
    }
   ],
   "source": [
    "c = (36*sin(pi/10))/9.81\n",
    "print(c, \"sekunder\")"
   ]
  },
  {
   "cell_type": "markdown",
   "metadata": {},
   "source": [
    "Her ser vi at annvendelse av newtons metode gir i svært stor nøyaktighet tiden ballen er i lufta."
   ]
  },
  {
   "cell_type": "markdown",
   "metadata": {},
   "source": [
    "E) "
   ]
  },
  {
   "cell_type": "code",
   "execution_count": 37,
   "metadata": {},
   "outputs": [
    {
     "name": "stdout",
     "output_type": "stream",
     "text": [
      "sett inn estimert tid i sekunder: 1\n",
      "[0.68104028 0.77405205 0.90380231 1.08064415] sekunder\n",
      "[3.42082947 3.63208332 3.7066915  3.13386803] meter\n"
     ]
    }
   ],
   "source": [
    "n = 100\n",
    "l = array([6, 5, 4, 3])\n",
    "x = float(input(\"sett inn estimert tid i sekunder: \"))\n",
    "dx = 1E-8\n",
    "\n",
    "def f(x):\n",
    "    return 0.3 + 5.8 * x * sin(pi/l) - 0.5 * 9.81 * x**2\n",
    "def D(x):\n",
    "    return (f(x + dx) -f(x))/dx   \n",
    "for i in range(n):\n",
    "    x = x - (f(x))/D(x)\n",
    "a = 5.8 * cos(pi/l) * x    \n",
    "\n",
    "print(x, \"sekunder\")\n",
    "print(a,\"meter\")"
   ]
  },
  {
   "cell_type": "markdown",
   "metadata": {},
   "source": [
    "her deffinerer vi endringen av vinkelen i en array slik får vi tid og avstand for vinklene. da ser vi at vinkel 45 grader er mest ideel."
   ]
  },
  {
   "cell_type": "markdown",
   "metadata": {},
   "source": [
    "F)"
   ]
  },
  {
   "cell_type": "code",
   "execution_count": 38,
   "metadata": {},
   "outputs": [
    {
     "name": "stdout",
     "output_type": "stream",
     "text": [
      "sett inn estimert tid i sekunder: 1\n",
      "0.9038023091058767 sekunder\n",
      "3.7066915014007877 meter\n"
     ]
    }
   ],
   "source": [
    "n = 100\n",
    "x = float(input(\"sett inn estimert tid i sekunder: \"))\n",
    "dx = 1E-8\n",
    "def f(x):\n",
    "    return 0.3 + 5.8 * x * sin(pi/4) - 0.5 * 9.81 * x**2\n",
    "def D(x):\n",
    "    return (f(x + dx) -f(x))/dx   \n",
    "for i in range(n):\n",
    "    x = x - (f(x))/D(x)\n",
    "a = 5.8 * cos(pi/4) * x    \n",
    "\n",
    "print(x, \"sekunder\")\n",
    "print(a,\"meter\")"
   ]
  },
  {
   "cell_type": "markdown",
   "metadata": {},
   "source": [
    "ved 45 grader målte vi \n",
    "en startfart på 5.79, 5.80, 5.87\n",
    "og kulen tilbakela avstandene 3.75, 3.68, 3.63\n",
    "\n",
    "her ser vi en klar ovenestemmelse mellom målinger og beregninger og noen av feilene kan være grunnet feilkilder."
   ]
  },
  {
   "cell_type": "markdown",
   "metadata": {},
   "source": [
    "Mulige feilkilder:\n",
    "- vi har ikke tatt høyde for luftmotstand\n",
    "- Feilmålinger\n",
    "- unøyaktige vinkler på kanon"
   ]
  },
  {
   "cell_type": "code",
   "execution_count": null,
   "metadata": {},
   "outputs": [],
   "source": []
  }
 ],
 "metadata": {
  "kernelspec": {
   "display_name": "Python 3",
   "language": "python",
   "name": "python3"
  }
 },
 "nbformat": 4,
 "nbformat_minor": 2
}
