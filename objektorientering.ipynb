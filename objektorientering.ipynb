{
 "cells": [
  {
   "cell_type": "markdown",
   "metadata": {},
   "source": [
    "# Objketorientering\n",
    "oppgave 1\n",
    "Grunnstoffer og bindingstyper"
   ]
  },
  {
   "cell_type": "code",
   "execution_count": 38,
   "metadata": {},
   "outputs": [
    {
     "name": "stdout",
     "output_type": "stream",
     "text": [
      "LiF: ionisk\n",
      "BrCl: upolar kovalent\n",
      "K2O: ionisk\n",
      "CH4: mellom polar og upolar kovalent\n"
     ]
    }
   ],
   "source": [
    "from pylab import*\n",
    "\n",
    "class Grunnstoff: #generell klasse for grunnsftoffene\n",
    "    def __init__(self, a_nummer, sym, navn, masse, el_neg):\n",
    "        self.a_nummer = a_nummer\n",
    "        self.sym = sym\n",
    "        self.navn = navn\n",
    "        self.el_neg = el_neg\n",
    "        self.masse = masse\n",
    "        \n",
    "    #funksjon for bindingstype    \n",
    "    def bindingstype(grunnstoff1, grunnstoff2):\n",
    "        \n",
    "        differanse = abs(grunnstoff1.el_neg - grunnstoff2.el_neg) #finner forskjell i elektronegativitet mellom atomene i molekylene\n",
    "        \n",
    "        \n",
    "        #beslutninger som avgjør hvilken binding molekylene har ut i fra differanse i elektronegativitet\n",
    "        if differanse <= 0.3:\n",
    "            binding = 'upolar kovalent'\n",
    "            \n",
    "        elif 0.5 > differanse > 0.3:\n",
    "            binding = 'mellom polar og upolar kovalent'\n",
    "            \n",
    "        elif 1.6 >= differanse >= 0.5: \n",
    "            binding = 'polar kovalent'\n",
    "            \n",
    "        elif 1.6 > differanse > 2.0:\n",
    "            binding = 'mellom ionisk og polar kovalent'\n",
    "            \n",
    "        elif differanse >= 2.0:\n",
    "            binding = 'ionisk'\n",
    "            \n",
    "        return binding\n",
    "\n",
    "    \n",
    "#kaller klassen for de forskjellige grunnstoffene    \n",
    "hydrogen = Grunnstoff('1', 'H', 'Hydrogen', 1.00784, 2.2)\n",
    "litium = Grunnstoff('3', 'Li', 'Litium', 6.941, 0.98)\n",
    "karbon = Grunnstoff('6', 'C', 'Karbon', 12.0107, 2.55)\n",
    "oksygen = Grunnstoff('8', 'O', 'Oksygen', 15.999, 3.44)\n",
    "fluor = Grunnstoff('9', 'F', 'Fluor', 18.9984, 3.98)\n",
    "klor = Grunnstoff('17', 'Cl', 'Klor', 35.453, 3.16)\n",
    "kalium = Grunnstoff('19', 'K', 'Kalium', 39.0983, 0.82)\n",
    "brom = Grunnstoff('35', 'Br', 'Brom', 79.904, 2.96)\n",
    "\n",
    " \n",
    "#viser molekyl og hvilken binding moekylet er bygd opp av\n",
    "print('LiF:', bindingstype(litium, fluor)) #funksjon for bindingstype med deffinerte grunnstoffer\n",
    "print('BrCl:', bindingstype(brom, klor))\n",
    "print('K2O:',  bindingstype(kalium, oksygen))\n",
    "print('CH4:', bindingstype(karbon, hydrogen))\n",
    "    \n",
    "\n"
   ]
  },
  {
   "cell_type": "markdown",
   "metadata": {},
   "source": [
    "til denne oppgaven "
   ]
  }
 ],
 "metadata": {
  "kernelspec": {
   "display_name": "Python 3",
   "language": "python",
   "name": "python3"
  },
  "language_info": {
   "codemirror_mode": {
    "name": "ipython",
    "version": 3
   },
   "file_extension": ".py",
   "mimetype": "text/x-python",
   "name": "python",
   "nbconvert_exporter": "python",
   "pygments_lexer": "ipython3",
   "version": "3.7.4"
  }
 },
 "nbformat": 4,
 "nbformat_minor": 2
}
